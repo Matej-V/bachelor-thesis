{
 "cells": [
  {
   "cell_type": "markdown",
   "metadata": {},
   "source": [
    "## Evaluate GPT-3.5-TURBO on embedded code dataset\n",
    "\n",
    "Author: Matej Vadovic\n",
    "\n",
    "Year: 2024"
   ]
  },
  {
   "cell_type": "code",
   "execution_count": null,
   "metadata": {},
   "outputs": [],
   "source": [
    "from openai import OpenAI\n",
    "import os\n",
    "import regex as re\n",
    "from traintools.lib import DatasetSingleton, evaluate_predictions, remove_comments_from_output\n",
    "from dotenv import load_dotenv\n",
    "load_dotenv()\n",
    "import json\n",
    "\n",
    "# Load key from .env file\n",
    "client = OpenAI(\n",
    "    # This is the default and can be omitted\n",
    "    api_key=os.getenv(\"OPENAI_API_KEY\"),\n",
    ")"
   ]
  },
  {
   "cell_type": "markdown",
   "metadata": {},
   "source": [
    "## Prepare inputs for model"
   ]
  },
  {
   "cell_type": "code",
   "execution_count": null,
   "metadata": {},
   "outputs": [],
   "source": [
    "# Load prepared dataset dictionary\n",
    "test_dataset = DatasetSingleton.get_test_dataset()"
   ]
  },
  {
   "cell_type": "code",
   "execution_count": null,
   "metadata": {},
   "outputs": [],
   "source": [
    "def prepare_inputs(data):\n",
    "    return {\"role\": \"user\",\n",
    "            \"content\": f'Complete the implementation of the function with the following docstring and signature:\\n{data}\\nRemember, you only need to fill in the body of the function, without altering the provided signature or adding any additional comments.'}"
   ]
  },
  {
   "cell_type": "code",
   "execution_count": null,
   "metadata": {},
   "outputs": [],
   "source": [
    "messages = [prepare_inputs(data) for data in test_dataset['prompt'][:2000]]"
   ]
  },
  {
   "cell_type": "markdown",
   "metadata": {},
   "source": [
    "## Get outputs from model"
   ]
  },
  {
   "cell_type": "code",
   "execution_count": null,
   "metadata": {},
   "outputs": [],
   "source": [
    "# List to store responses\n",
    "responses = []"
   ]
  },
  {
   "cell_type": "code",
   "execution_count": null,
   "metadata": {},
   "outputs": [],
   "source": [
    "for message in messages:\n",
    "    response = client.chat.completions.create( \n",
    "        model=\"gpt-3.5-turbo\", messages=[message] \n",
    "    )\n",
    "    responses.append(response.choices[0].message.content)"
   ]
  },
  {
   "cell_type": "markdown",
   "metadata": {},
   "source": [
    "## Save outputs to file"
   ]
  },
  {
   "cell_type": "code",
   "execution_count": null,
   "metadata": {},
   "outputs": [],
   "source": [
    "responses_copy = responses.copy()"
   ]
  },
  {
   "cell_type": "code",
   "execution_count": null,
   "metadata": {},
   "outputs": [],
   "source": [
    "# write responses to json file\n",
    "with open('chatgpt-responses.json', 'w') as f:\n",
    "    json.dump(responses, f)"
   ]
  },
  {
   "cell_type": "markdown",
   "metadata": {},
   "source": [
    "## Clean outputs for evaluation\n",
    "- Remove extra comments before and after the code snippet\n",
    "- Remove signatures, since these are not evaluated, becaseuse they are pre-written\n",
    "- Remove comments inside the code snippet\n"
   ]
  },
  {
   "cell_type": "code",
   "execution_count": null,
   "metadata": {},
   "outputs": [],
   "source": [
    "with open('chatgpt-responses.json', 'r') as f:\n",
    "    responses = json.load(f)"
   ]
  },
  {
   "cell_type": "code",
   "execution_count": null,
   "metadata": {},
   "outputs": [],
   "source": [
    "for i in range(len(responses)):\n",
    "    # If ```c is in code, then replace everything before and everything after ```\n",
    "    matches = re.findall(r\"(?<=```c)(?:.|\\s)*?(?=```)\", responses[i])\n",
    "    if matches:\n",
    "        responses[i] = matches[0]\n",
    "    else:\n",
    "        responses[i] = responses[i]\n",
    "\n",
    "# Remove signatures from responses\n",
    "predictions = [r.replace(test_dataset[i]['signature'], '').strip() for i, r in enumerate(responses)]\n",
    "\n",
    "# Remove comments from the predictions\n",
    "predictions = [remove_comments_from_output(p) for p in predictions]"
   ]
  },
  {
   "cell_type": "markdown",
   "metadata": {},
   "source": [
    "## Evaluate outputs"
   ]
  },
  {
   "cell_type": "code",
   "execution_count": null,
   "metadata": {},
   "outputs": [],
   "source": [
    "# Reference code snippets\n",
    "references = [[x] for x in test_dataset['code'][:2000]]\n",
    "\n",
    "results = evaluate_predictions(predictions, references, 'GPT-3.5-turbo', DatasetSingleton.get_name(), 'GPT_CAUSAL',False)\n",
    "\n",
    "print(results)"
   ]
  }
 ],
 "metadata": {
  "kernelspec": {
   "display_name": "virtualenv",
   "language": "python",
   "name": "python3"
  },
  "language_info": {
   "codemirror_mode": {
    "name": "ipython",
    "version": 3
   },
   "file_extension": ".py",
   "mimetype": "text/x-python",
   "name": "python",
   "nbconvert_exporter": "python",
   "pygments_lexer": "ipython3",
   "version": "3.8.10"
  }
 },
 "nbformat": 4,
 "nbformat_minor": 2
}
