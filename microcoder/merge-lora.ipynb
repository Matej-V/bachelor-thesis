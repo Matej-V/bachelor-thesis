{
 "cells": [
  {
   "cell_type": "markdown",
   "metadata": {},
   "source": [
    "\n",
    "## Merge the Lora adapter with the base model, save the merged model.\n",
    "\n",
    "The merged model is saved in the save_dir, the Lora adapter is loaded from the lora_adapter_path, and these need to be specified.\n",
    "\n",
    "Author: Matej Vadovic\n",
    "\n",
    "Year: 2024\n"
   ]
  },
  {
   "cell_type": "code",
   "execution_count": null,
   "metadata": {},
   "outputs": [],
   "source": [
    "from transformers import AutoModelForCausalLM, AutoTokenizer\n",
    "from peft import PeftModel\n",
    "from traintools.lib import predict, DatasetSingleton, MicroCoderTrain\n",
    "import torch\n",
    "\n",
    "# Path to the Lora adapter\n",
    "lora_adapter_path = ''\n",
    "\n",
    "# The directory to save the merged model \n",
    "save_dir = \"microcoder-4b\""
   ]
  },
  {
   "cell_type": "markdown",
   "metadata": {},
   "source": [
    "## Load model and tokenizer from HF"
   ]
  },
  {
   "cell_type": "code",
   "execution_count": null,
   "metadata": {},
   "outputs": [],
   "source": [
    "config = CodeLLama7BConfig()\n",
    "\n",
    "base_model = AutoModelForCausalLM.from_pretrained(\n",
    "    config.model_name,\n",
    "    torch_dtype=torch.float16,\n",
    "    device_map=config.device_map,\n",
    "    trust_remote_code=True,\n",
    "    token=True,\n",
    "    return_dict=True\n",
    ")\n",
    "\n",
    "# Load tokenizer\n",
    "tokenizer = AutoTokenizer.from_pretrained(config.tokenizer_name)\n",
    "tokenizer.pad_token = tokenizer.eos_token"
   ]
  },
  {
   "cell_type": "markdown",
   "metadata": {},
   "source": [
    "## Merge adapter with model"
   ]
  },
  {
   "cell_type": "code",
   "execution_count": null,
   "metadata": {},
   "outputs": [],
   "source": [
    "# Load PEFT model\n",
    "MicroCoder = PeftModel.from_pretrained(base_model, lora_adapter_path)\n",
    "\n",
    "# Merge base model and Lora adapter\n",
    "MicroCoder = MicroCoder.merge_and_unload()"
   ]
  },
  {
   "cell_type": "markdown",
   "metadata": {},
   "source": [
    "## Save new model"
   ]
  },
  {
   "cell_type": "code",
   "execution_count": null,
   "metadata": {},
   "outputs": [],
   "source": [
    "# Save merged model\n",
    "MicroCoder.save_pretrained(save_dir)\n",
    "\n",
    "# Save tokenizera\n",
    "tokenizer.save_pretrained(save_dir)"
   ]
  },
  {
   "cell_type": "markdown",
   "metadata": {},
   "source": [
    "## Try model inference"
   ]
  },
  {
   "cell_type": "code",
   "execution_count": null,
   "metadata": {},
   "outputs": [],
   "source": [
    "test_dataset = DatasetSingleton.get_test_dataset()\n",
    "\n",
    "def build_prompt(docstring):\n",
    "    text = f\"{docstring}\\n\"\n",
    "    return {'prompt_sample': text}\n",
    "\n",
    "test_dataset = test_dataset.map(lambda x: build_prompt(x[\"prompt\"]))"
   ]
  },
  {
   "cell_type": "code",
   "execution_count": null,
   "metadata": {},
   "outputs": [],
   "source": [
    "# Generate predictions\n",
    "example = f\"{test_dataset['prompt_sample'][76]}\\n\"\n",
    "prediction = predict(example, MicroCoder, tokenizer, temperature=0.8, repetition_penalty=1.3, skip_special_tokens=True)\n",
    "print(prediction)"
   ]
  }
 ],
 "metadata": {
  "kernelspec": {
   "display_name": "virtualenv",
   "language": "python",
   "name": "python3"
  },
  "language_info": {
   "codemirror_mode": {
    "name": "ipython",
    "version": 3
   },
   "file_extension": ".py",
   "mimetype": "text/x-python",
   "name": "python",
   "nbconvert_exporter": "python",
   "pygments_lexer": "ipython3",
   "version": "3.8.10"
  }
 },
 "nbformat": 4,
 "nbformat_minor": 2
}
